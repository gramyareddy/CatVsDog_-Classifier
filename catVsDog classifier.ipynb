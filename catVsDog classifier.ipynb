{
 "cells": [
  {
   "cell_type": "code",
   "execution_count": 1,
   "metadata": {},
   "outputs": [
    {
     "name": "stderr",
     "output_type": "stream",
     "text": [
      "Using TensorFlow backend.\n"
     ]
    }
   ],
   "source": [
    "import numpy as np\n",
    "from sklearn.model_selection import cross_val_score\n",
    "from sklearn.model_selection import GridSearchCV\n",
    "from keras.models import Sequential,Model\n",
    "from keras.layers import Conv2D,MaxPooling2D,Dense,Dropout,Flatten\n",
    "from keras.preprocessing.image import ImageDataGenerator\n",
    "from PIL import Image\n",
    "\n"
   ]
  },
  {
   "cell_type": "code",
   "execution_count": 2,
   "metadata": {},
   "outputs": [],
   "source": [
    "#define model\n",
    "classifier = Sequential()\n",
    "classifier.add(Conv2D(32,(3,3),input_shape=(128,128,3),activation='relu'))\n",
    "classifier.add(MaxPooling2D(2,2))\n",
    "\n",
    "classifier.add(Conv2D(64,(3,3),activation='relu'))\n",
    "classifier.add(MaxPooling2D(2,2))\n",
    "\n",
    "classifier.add(Conv2D(128,(3,3),activation='relu'))\n",
    "classifier.add(MaxPooling2D(2,2))\n",
    "\n",
    "classifier.add(Flatten())\n",
    "\n",
    "classifier.add(Dense(64,activation='relu'))\n",
    "classifier.add(Dropout(0.1))\n",
    "\n",
    "classifier.add(Dense(1,activation=\"sigmoid\"))\n",
    "\n",
    "\n",
    "\n",
    "classifier.compile(optimizer='adam',loss='binary_crossentropy',metrics = ['accuracy'])\n"
   ]
  },
  {
   "cell_type": "code",
   "execution_count": null,
   "metadata": {},
   "outputs": [
    {
     "name": "stdout",
     "output_type": "stream",
     "text": [
      "Found 8000 images belonging to 2 classes.\n",
      "Found 2000 images belonging to 2 classes.\n",
      "Epoch 1/10\n",
      "8000/8000 [==============================] - 1462s 183ms/step - loss: 0.5110 - accuracy: 0.7378 - val_loss: 0.7559 - val_accuracy: 0.8260\n",
      "Epoch 2/10\n",
      "8000/8000 [==============================] - 565s 71ms/step - loss: 0.3370 - accuracy: 0.8503 - val_loss: 0.1071 - val_accuracy: 0.8370\n",
      "Epoch 3/10\n",
      "8000/8000 [==============================] - 589s 74ms/step - loss: 0.2554 - accuracy: 0.8916 - val_loss: 0.0641 - val_accuracy: 0.8585\n",
      "Epoch 4/10\n",
      "8000/8000 [==============================] - 610s 76ms/step - loss: 0.2001 - accuracy: 0.9172 - val_loss: 2.4611 - val_accuracy: 0.8600\n",
      "Epoch 5/10\n",
      "8000/8000 [==============================] - 570s 71ms/step - loss: 0.1646 - accuracy: 0.9344 - val_loss: 0.0343 - val_accuracy: 0.8570\n",
      "Epoch 6/10\n",
      "8000/8000 [==============================] - 659s 82ms/step - loss: 0.1371 - accuracy: 0.9450 - val_loss: 0.1236 - val_accuracy: 0.8605\n",
      "Epoch 7/10\n",
      "8000/8000 [==============================] - 894s 112ms/step - loss: 0.1220 - accuracy: 0.9521 - val_loss: 0.0247 - val_accuracy: 0.8635\n",
      "Epoch 8/10\n",
      "8000/8000 [==============================] - 1030s 129ms/step - loss: 0.1042 - accuracy: 0.9601 - val_loss: 0.5295 - val_accuracy: 0.8515\n",
      "Epoch 9/10\n",
      "8000/8000 [==============================] - 852s 107ms/step - loss: 0.0954 - accuracy: 0.9643 - val_loss: 0.0947 - val_accuracy: 0.8680\n",
      "Epoch 10/10\n",
      "2925/8000 [=========>....................] - ETA: 5:07 - loss: 0.0898 - accuracy: 0.9659 ETA: 5:07 - loss: 0.0899 - accu"
     ]
    }
   ],
   "source": [
    "\n",
    "train_datagen = ImageDataGenerator(rescale = 1./255,\n",
    "                                   shear_range = 0.2,\n",
    "                                   zoom_range = 0.2,\n",
    "                                   horizontal_flip = True)\n",
    "\n",
    "test_datagen = ImageDataGenerator(rescale = 1./255)\n",
    "\n",
    "training_set = train_datagen.flow_from_directory('C:\\MyLearnings\\\\DeepLearning\\\\Courses\\\\A2Z\\\\P16-Convolutional-Neural-Networks\\\\Convolutional_Neural_Networks\\\\dataset\\\\training_set',\n",
    "                                                 target_size = (128, 128),\n",
    "                                                 batch_size = 8,\n",
    "                                                 class_mode = 'binary')\n",
    "\n",
    "test_set = test_datagen.flow_from_directory('C:\\MyLearnings\\\\DeepLearning\\\\Courses\\\\A2Z\\\\P16-Convolutional-Neural-Networks\\\\Convolutional_Neural_Networks\\\\dataset\\\\test_set',\n",
    "                                            target_size = (128, 128),\n",
    "                                            batch_size = 8,\n",
    "                                            class_mode = 'binary')\n",
    "\n",
    "classifier.fit_generator(training_set,\n",
    "                         steps_per_epoch = 8000,\n",
    "                         epochs = 10,\n",
    "                         validation_data = test_set,\n",
    "                         validation_steps = 2000)"
   ]
  },
  {
   "cell_type": "code",
   "execution_count": null,
   "metadata": {},
   "outputs": [],
   "source": []
  }
 ],
 "metadata": {
  "kernelspec": {
   "display_name": "TensorFlow-GPU-1.13",
   "language": "python",
   "name": "tf-gpu"
  },
  "language_info": {
   "codemirror_mode": {
    "name": "ipython",
    "version": 3
   },
   "file_extension": ".py",
   "mimetype": "text/x-python",
   "name": "python",
   "nbconvert_exporter": "python",
   "pygments_lexer": "ipython3",
   "version": "3.7.7"
  }
 },
 "nbformat": 4,
 "nbformat_minor": 4
}
